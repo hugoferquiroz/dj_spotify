{
 "cells": [
  {
   "attachments": {},
   "cell_type": "markdown",
   "metadata": {},
   "source": [
    "# Getting data from user"
   ]
  },
  {
   "cell_type": "code",
   "execution_count": 15,
   "metadata": {},
   "outputs": [],
   "source": [
    "import spotipy\n",
    "from spotipy.oauth2 import SpotifyClientCredentials\n",
    "import pprint"
   ]
  },
  {
   "cell_type": "code",
   "execution_count": 3,
   "metadata": {},
   "outputs": [],
   "source": [
    "# Server to server authentication\n",
    "auth_manager = SpotifyClientCredentials()\n",
    "sp = spotipy.Spotify(auth_manager=auth_manager, requests_timeout=20)"
   ]
  },
  {
   "cell_type": "code",
   "execution_count": 21,
   "metadata": {},
   "outputs": [],
   "source": [
    "tracksid = []\n",
    "tracksname = []\n",
    "tracksartist = []"
   ]
  },
  {
   "attachments": {},
   "cell_type": "markdown",
   "metadata": {},
   "source": [
    "## Adding items to search"
   ]
  },
  {
   "attachments": {},
   "cell_type": "markdown",
   "metadata": {},
   "source": [
    "### Search for artist"
   ]
  },
  {
   "cell_type": "code",
   "execution_count": 22,
   "metadata": {},
   "outputs": [
    {
     "name": "stdout",
     "output_type": "stream",
     "text": [
      "5VQCk9RiLwri99OgOT34kq Vilma Palma e Vampiros\n"
     ]
    }
   ],
   "source": [
    "# Buscar por artista\n",
    "\n",
    "results = sp.search('Vilma Palma', type='artist', limit=1)\n",
    "\n",
    "if results['artists']['items']:\n",
    "    artistid = results['artists']['items'][0]['id']\n",
    "    artistname = results['artists']['items'][0]['name']\n",
    "    print(artistid, artistname)\n",
    "else:\n",
    "    print('No artist found')"
   ]
  },
  {
   "cell_type": "code",
   "execution_count": 23,
   "metadata": {},
   "outputs": [
    {
     "name": "stdout",
     "output_type": "stream",
     "text": [
      "2FSYfKAApea3U42phhBOIc - Bye Bye / Vilma Palma e Vampiros\n",
      "1x6bkwDyWIOZNFY5blRSs1 - La Pachanga / Vilma Palma e Vampiros\n",
      "5PSCWHpXi8I45NXURHyhBA - Auto Rojo / Vilma Palma e Vampiros\n",
      "5N5sbaoN8UvXw8ngNR9iUk - Mojada / Vilma Palma e Vampiros\n",
      "2g229Q3Relqxkj5CDnTjeE - Fondo Profundo / Vilma Palma e Vampiros\n"
     ]
    }
   ],
   "source": [
    "# Buscar top 5 tracks\n",
    "\n",
    "results = sp.artist_top_tracks(artistid, country='US')\n",
    "\n",
    "for track in results['tracks'][:5]:\n",
    "    trackid = track['id']\n",
    "    trackname = track['name']\n",
    "    trackartist = track['artists'][0]['name']\n",
    "\n",
    "    tracksid.append(trackid)\n",
    "    tracksname.append(trackname)\n",
    "    tracksartist.append(trackartist)\n",
    "\n",
    "    print(track['id'], '-', track['name'], '/', trackartist)"
   ]
  },
  {
   "attachments": {},
   "cell_type": "markdown",
   "metadata": {},
   "source": [
    "### Search a track"
   ]
  },
  {
   "cell_type": "code",
   "execution_count": 24,
   "metadata": {},
   "outputs": [
    {
     "name": "stdout",
     "output_type": "stream",
     "text": [
      "0. 5EJ2THuhAapEIeQOtXUQ0x - Oye Mi Amor / Maná\n",
      "1. 5TA7wLBogohCKbyuCMHBKY - Oye Mi Amor / Maná\n",
      "2. 1V8Lo54uCLyycAMCtw1mHu - Oye Mi Amor - En Vivo / Maná\n",
      "3. 7zYlsFsFSmTn3KywBjLVo0 - Oye Mi Amor / Maná\n",
      "4. 4G3aqAPJW5h9izywu75Nro - Oye Mi Amor - Unplugged / Maná\n"
     ]
    }
   ],
   "source": [
    "# Buscar por nombre de canción\n",
    "\n",
    "results = sp.search('Oye mi amor - Mana', type='track', limit=5)\n",
    "\n",
    "possible_ids = []\n",
    "possible_artists = []\n",
    "possible_names = []\n",
    "\n",
    "for i, track in  enumerate(results['tracks']['items']):\n",
    "    trackid = track['id']\n",
    "    trackname = track['name']\n",
    "    trackartist = track['artists'][0]['name']\n",
    "    print(f'{i}.', trackid, '-', trackname, '/', trackartist)\n",
    "    \n",
    "    possible_ids.append(trackid)\n",
    "    possible_names.append(trackname)\n",
    "    possible_artists.append(trackartist)"
   ]
  },
  {
   "cell_type": "code",
   "execution_count": 25,
   "metadata": {},
   "outputs": [
    {
     "name": "stdout",
     "output_type": "stream",
     "text": [
      "Choose an option or type -1 to exit:\n",
      "Added track\n",
      "5EJ2THuhAapEIeQOtXUQ0x - Oye Mi Amor / Maná\n"
     ]
    }
   ],
   "source": [
    "# Agregar una opción para elegir la canción\n",
    "\n",
    "if possible_ids != []:\n",
    "    print('Choose an option or type -1 to exit:')\n",
    "    option = int(input())\n",
    "\n",
    "    if option < len(possible_ids) and option >= 0:\n",
    "        print('Added track')\n",
    "        trackid = possible_ids[option]\n",
    "        trackname = possible_names[option]\n",
    "        trackartist = possible_artists[option]\n",
    "\n",
    "        print(trackid, '-', trackname, '/', trackartist)\n",
    "\n",
    "        tracksid.append(trackid)\n",
    "        tracksname.append(trackname)\n",
    "        tracksartist.append(trackartist)\n",
    "    else:\n",
    "        print('No saved track')\n",
    "else:\n",
    "    print('No track found')"
   ]
  },
  {
   "attachments": {},
   "cell_type": "markdown",
   "metadata": {},
   "source": [
    "### Preprocessing the data"
   ]
  },
  {
   "cell_type": "code",
   "execution_count": 26,
   "metadata": {},
   "outputs": [
    {
     "name": "stdout",
     "output_type": "stream",
     "text": [
      "2FSYfKAApea3U42phhBOIc - Bye Bye / Vilma Palma e Vampiros\n",
      "1x6bkwDyWIOZNFY5blRSs1 - La Pachanga / Vilma Palma e Vampiros\n",
      "5PSCWHpXi8I45NXURHyhBA - Auto Rojo / Vilma Palma e Vampiros\n",
      "5N5sbaoN8UvXw8ngNR9iUk - Mojada / Vilma Palma e Vampiros\n",
      "2g229Q3Relqxkj5CDnTjeE - Fondo Profundo / Vilma Palma e Vampiros\n",
      "5EJ2THuhAapEIeQOtXUQ0x - Oye Mi Amor / Maná\n"
     ]
    }
   ],
   "source": [
    "# Datos del usuario\n",
    "for trackid, trackname, trackartist in zip(tracksid, tracksname, tracksartist):\n",
    "    print(trackid, '-', trackname, '/', trackartist)"
   ]
  },
  {
   "cell_type": "code",
   "execution_count": 27,
   "metadata": {},
   "outputs": [
    {
     "name": "stdout",
     "output_type": "stream",
     "text": [
      "cantidad de canciones: 6\n"
     ]
    }
   ],
   "source": [
    "# Evitar repeticiones\n",
    "# Todo: Evitar duplicados\n",
    "\n",
    "print('cantidad de canciones:', len(tracksid))"
   ]
  },
  {
   "cell_type": "code",
   "execution_count": 28,
   "metadata": {},
   "outputs": [],
   "source": [
    "# Crear un dataset con las preferencias del usuario\n",
    "import pandas as pd\n",
    "\n",
    "features = sp.audio_features(tracksid)\n",
    "\n",
    "df_features = pd.DataFrame(features, index=tracksname)"
   ]
  },
  {
   "cell_type": "code",
   "execution_count": 29,
   "metadata": {},
   "outputs": [
    {
     "data": {
      "text/html": [
       "<div>\n",
       "<style scoped>\n",
       "    .dataframe tbody tr th:only-of-type {\n",
       "        vertical-align: middle;\n",
       "    }\n",
       "\n",
       "    .dataframe tbody tr th {\n",
       "        vertical-align: top;\n",
       "    }\n",
       "\n",
       "    .dataframe thead th {\n",
       "        text-align: right;\n",
       "    }\n",
       "</style>\n",
       "<table border=\"1\" class=\"dataframe\">\n",
       "  <thead>\n",
       "    <tr style=\"text-align: right;\">\n",
       "      <th></th>\n",
       "      <th>danceability</th>\n",
       "      <th>energy</th>\n",
       "      <th>key</th>\n",
       "      <th>loudness</th>\n",
       "      <th>mode</th>\n",
       "      <th>speechiness</th>\n",
       "      <th>acousticness</th>\n",
       "      <th>instrumentalness</th>\n",
       "      <th>liveness</th>\n",
       "      <th>valence</th>\n",
       "      <th>tempo</th>\n",
       "      <th>type</th>\n",
       "      <th>id</th>\n",
       "      <th>uri</th>\n",
       "      <th>track_href</th>\n",
       "      <th>analysis_url</th>\n",
       "      <th>duration_ms</th>\n",
       "      <th>time_signature</th>\n",
       "    </tr>\n",
       "  </thead>\n",
       "  <tbody>\n",
       "    <tr>\n",
       "      <th>Bye Bye</th>\n",
       "      <td>0.634</td>\n",
       "      <td>0.840</td>\n",
       "      <td>6</td>\n",
       "      <td>-5.933</td>\n",
       "      <td>1</td>\n",
       "      <td>0.0351</td>\n",
       "      <td>0.00168</td>\n",
       "      <td>0.023700</td>\n",
       "      <td>0.2070</td>\n",
       "      <td>0.393</td>\n",
       "      <td>97.998</td>\n",
       "      <td>audio_features</td>\n",
       "      <td>2FSYfKAApea3U42phhBOIc</td>\n",
       "      <td>spotify:track:2FSYfKAApea3U42phhBOIc</td>\n",
       "      <td>https://api.spotify.com/v1/tracks/2FSYfKAApea3...</td>\n",
       "      <td>https://api.spotify.com/v1/audio-analysis/2FSY...</td>\n",
       "      <td>349507</td>\n",
       "      <td>4</td>\n",
       "    </tr>\n",
       "    <tr>\n",
       "      <th>La Pachanga</th>\n",
       "      <td>0.681</td>\n",
       "      <td>0.918</td>\n",
       "      <td>9</td>\n",
       "      <td>-4.830</td>\n",
       "      <td>0</td>\n",
       "      <td>0.0508</td>\n",
       "      <td>0.00244</td>\n",
       "      <td>0.000535</td>\n",
       "      <td>0.1190</td>\n",
       "      <td>0.551</td>\n",
       "      <td>105.031</td>\n",
       "      <td>audio_features</td>\n",
       "      <td>1x6bkwDyWIOZNFY5blRSs1</td>\n",
       "      <td>spotify:track:1x6bkwDyWIOZNFY5blRSs1</td>\n",
       "      <td>https://api.spotify.com/v1/tracks/1x6bkwDyWIOZ...</td>\n",
       "      <td>https://api.spotify.com/v1/audio-analysis/1x6b...</td>\n",
       "      <td>281933</td>\n",
       "      <td>4</td>\n",
       "    </tr>\n",
       "    <tr>\n",
       "      <th>Auto Rojo</th>\n",
       "      <td>0.764</td>\n",
       "      <td>0.820</td>\n",
       "      <td>1</td>\n",
       "      <td>-6.073</td>\n",
       "      <td>1</td>\n",
       "      <td>0.0441</td>\n",
       "      <td>0.15800</td>\n",
       "      <td>0.000000</td>\n",
       "      <td>0.0939</td>\n",
       "      <td>0.688</td>\n",
       "      <td>104.527</td>\n",
       "      <td>audio_features</td>\n",
       "      <td>5PSCWHpXi8I45NXURHyhBA</td>\n",
       "      <td>spotify:track:5PSCWHpXi8I45NXURHyhBA</td>\n",
       "      <td>https://api.spotify.com/v1/tracks/5PSCWHpXi8I4...</td>\n",
       "      <td>https://api.spotify.com/v1/audio-analysis/5PSC...</td>\n",
       "      <td>306000</td>\n",
       "      <td>4</td>\n",
       "    </tr>\n",
       "    <tr>\n",
       "      <th>Mojada</th>\n",
       "      <td>0.666</td>\n",
       "      <td>0.859</td>\n",
       "      <td>7</td>\n",
       "      <td>-5.517</td>\n",
       "      <td>1</td>\n",
       "      <td>0.0427</td>\n",
       "      <td>0.32800</td>\n",
       "      <td>0.000000</td>\n",
       "      <td>0.3220</td>\n",
       "      <td>0.198</td>\n",
       "      <td>120.701</td>\n",
       "      <td>audio_features</td>\n",
       "      <td>5N5sbaoN8UvXw8ngNR9iUk</td>\n",
       "      <td>spotify:track:5N5sbaoN8UvXw8ngNR9iUk</td>\n",
       "      <td>https://api.spotify.com/v1/tracks/5N5sbaoN8UvX...</td>\n",
       "      <td>https://api.spotify.com/v1/audio-analysis/5N5s...</td>\n",
       "      <td>367960</td>\n",
       "      <td>4</td>\n",
       "    </tr>\n",
       "    <tr>\n",
       "      <th>Fondo Profundo</th>\n",
       "      <td>0.819</td>\n",
       "      <td>0.954</td>\n",
       "      <td>0</td>\n",
       "      <td>-6.057</td>\n",
       "      <td>1</td>\n",
       "      <td>0.0579</td>\n",
       "      <td>0.06730</td>\n",
       "      <td>0.000050</td>\n",
       "      <td>0.0784</td>\n",
       "      <td>0.559</td>\n",
       "      <td>107.980</td>\n",
       "      <td>audio_features</td>\n",
       "      <td>2g229Q3Relqxkj5CDnTjeE</td>\n",
       "      <td>spotify:track:2g229Q3Relqxkj5CDnTjeE</td>\n",
       "      <td>https://api.spotify.com/v1/tracks/2g229Q3Relqx...</td>\n",
       "      <td>https://api.spotify.com/v1/audio-analysis/2g22...</td>\n",
       "      <td>224973</td>\n",
       "      <td>4</td>\n",
       "    </tr>\n",
       "  </tbody>\n",
       "</table>\n",
       "</div>"
      ],
      "text/plain": [
       "                danceability  energy  key  loudness  mode  speechiness  \\\n",
       "Bye Bye                0.634   0.840    6    -5.933     1       0.0351   \n",
       "La Pachanga            0.681   0.918    9    -4.830     0       0.0508   \n",
       "Auto Rojo              0.764   0.820    1    -6.073     1       0.0441   \n",
       "Mojada                 0.666   0.859    7    -5.517     1       0.0427   \n",
       "Fondo Profundo         0.819   0.954    0    -6.057     1       0.0579   \n",
       "\n",
       "                acousticness  instrumentalness  liveness  valence    tempo  \\\n",
       "Bye Bye              0.00168          0.023700    0.2070    0.393   97.998   \n",
       "La Pachanga          0.00244          0.000535    0.1190    0.551  105.031   \n",
       "Auto Rojo            0.15800          0.000000    0.0939    0.688  104.527   \n",
       "Mojada               0.32800          0.000000    0.3220    0.198  120.701   \n",
       "Fondo Profundo       0.06730          0.000050    0.0784    0.559  107.980   \n",
       "\n",
       "                          type                      id  \\\n",
       "Bye Bye         audio_features  2FSYfKAApea3U42phhBOIc   \n",
       "La Pachanga     audio_features  1x6bkwDyWIOZNFY5blRSs1   \n",
       "Auto Rojo       audio_features  5PSCWHpXi8I45NXURHyhBA   \n",
       "Mojada          audio_features  5N5sbaoN8UvXw8ngNR9iUk   \n",
       "Fondo Profundo  audio_features  2g229Q3Relqxkj5CDnTjeE   \n",
       "\n",
       "                                                 uri  \\\n",
       "Bye Bye         spotify:track:2FSYfKAApea3U42phhBOIc   \n",
       "La Pachanga     spotify:track:1x6bkwDyWIOZNFY5blRSs1   \n",
       "Auto Rojo       spotify:track:5PSCWHpXi8I45NXURHyhBA   \n",
       "Mojada          spotify:track:5N5sbaoN8UvXw8ngNR9iUk   \n",
       "Fondo Profundo  spotify:track:2g229Q3Relqxkj5CDnTjeE   \n",
       "\n",
       "                                                       track_href  \\\n",
       "Bye Bye         https://api.spotify.com/v1/tracks/2FSYfKAApea3...   \n",
       "La Pachanga     https://api.spotify.com/v1/tracks/1x6bkwDyWIOZ...   \n",
       "Auto Rojo       https://api.spotify.com/v1/tracks/5PSCWHpXi8I4...   \n",
       "Mojada          https://api.spotify.com/v1/tracks/5N5sbaoN8UvX...   \n",
       "Fondo Profundo  https://api.spotify.com/v1/tracks/2g229Q3Relqx...   \n",
       "\n",
       "                                                     analysis_url  \\\n",
       "Bye Bye         https://api.spotify.com/v1/audio-analysis/2FSY...   \n",
       "La Pachanga     https://api.spotify.com/v1/audio-analysis/1x6b...   \n",
       "Auto Rojo       https://api.spotify.com/v1/audio-analysis/5PSC...   \n",
       "Mojada          https://api.spotify.com/v1/audio-analysis/5N5s...   \n",
       "Fondo Profundo  https://api.spotify.com/v1/audio-analysis/2g22...   \n",
       "\n",
       "                duration_ms  time_signature  \n",
       "Bye Bye              349507               4  \n",
       "La Pachanga          281933               4  \n",
       "Auto Rojo            306000               4  \n",
       "Mojada               367960               4  \n",
       "Fondo Profundo       224973               4  "
      ]
     },
     "execution_count": 29,
     "metadata": {},
     "output_type": "execute_result"
    }
   ],
   "source": [
    "df_features.head()"
   ]
  },
  {
   "cell_type": "code",
   "execution_count": 30,
   "metadata": {},
   "outputs": [
    {
     "data": {
      "text/html": [
       "<div>\n",
       "<style scoped>\n",
       "    .dataframe tbody tr th:only-of-type {\n",
       "        vertical-align: middle;\n",
       "    }\n",
       "\n",
       "    .dataframe tbody tr th {\n",
       "        vertical-align: top;\n",
       "    }\n",
       "\n",
       "    .dataframe thead th {\n",
       "        text-align: right;\n",
       "    }\n",
       "</style>\n",
       "<table border=\"1\" class=\"dataframe\">\n",
       "  <thead>\n",
       "    <tr style=\"text-align: right;\">\n",
       "      <th></th>\n",
       "      <th>id</th>\n",
       "      <th>acousticness</th>\n",
       "      <th>danceability</th>\n",
       "      <th>duration_ms</th>\n",
       "      <th>energy</th>\n",
       "      <th>instrumentalness</th>\n",
       "      <th>key</th>\n",
       "      <th>liveness</th>\n",
       "      <th>loudness</th>\n",
       "      <th>mode</th>\n",
       "      <th>speechiness</th>\n",
       "      <th>tempo</th>\n",
       "      <th>valence</th>\n",
       "    </tr>\n",
       "  </thead>\n",
       "  <tbody>\n",
       "    <tr>\n",
       "      <th>Bye Bye</th>\n",
       "      <td>2FSYfKAApea3U42phhBOIc</td>\n",
       "      <td>0.00168</td>\n",
       "      <td>0.634</td>\n",
       "      <td>349507</td>\n",
       "      <td>0.840</td>\n",
       "      <td>0.023700</td>\n",
       "      <td>6</td>\n",
       "      <td>0.2070</td>\n",
       "      <td>-5.933</td>\n",
       "      <td>1</td>\n",
       "      <td>0.0351</td>\n",
       "      <td>97.998</td>\n",
       "      <td>0.393</td>\n",
       "    </tr>\n",
       "    <tr>\n",
       "      <th>La Pachanga</th>\n",
       "      <td>1x6bkwDyWIOZNFY5blRSs1</td>\n",
       "      <td>0.00244</td>\n",
       "      <td>0.681</td>\n",
       "      <td>281933</td>\n",
       "      <td>0.918</td>\n",
       "      <td>0.000535</td>\n",
       "      <td>9</td>\n",
       "      <td>0.1190</td>\n",
       "      <td>-4.830</td>\n",
       "      <td>0</td>\n",
       "      <td>0.0508</td>\n",
       "      <td>105.031</td>\n",
       "      <td>0.551</td>\n",
       "    </tr>\n",
       "    <tr>\n",
       "      <th>Auto Rojo</th>\n",
       "      <td>5PSCWHpXi8I45NXURHyhBA</td>\n",
       "      <td>0.15800</td>\n",
       "      <td>0.764</td>\n",
       "      <td>306000</td>\n",
       "      <td>0.820</td>\n",
       "      <td>0.000000</td>\n",
       "      <td>1</td>\n",
       "      <td>0.0939</td>\n",
       "      <td>-6.073</td>\n",
       "      <td>1</td>\n",
       "      <td>0.0441</td>\n",
       "      <td>104.527</td>\n",
       "      <td>0.688</td>\n",
       "    </tr>\n",
       "    <tr>\n",
       "      <th>Mojada</th>\n",
       "      <td>5N5sbaoN8UvXw8ngNR9iUk</td>\n",
       "      <td>0.32800</td>\n",
       "      <td>0.666</td>\n",
       "      <td>367960</td>\n",
       "      <td>0.859</td>\n",
       "      <td>0.000000</td>\n",
       "      <td>7</td>\n",
       "      <td>0.3220</td>\n",
       "      <td>-5.517</td>\n",
       "      <td>1</td>\n",
       "      <td>0.0427</td>\n",
       "      <td>120.701</td>\n",
       "      <td>0.198</td>\n",
       "    </tr>\n",
       "    <tr>\n",
       "      <th>Fondo Profundo</th>\n",
       "      <td>2g229Q3Relqxkj5CDnTjeE</td>\n",
       "      <td>0.06730</td>\n",
       "      <td>0.819</td>\n",
       "      <td>224973</td>\n",
       "      <td>0.954</td>\n",
       "      <td>0.000050</td>\n",
       "      <td>0</td>\n",
       "      <td>0.0784</td>\n",
       "      <td>-6.057</td>\n",
       "      <td>1</td>\n",
       "      <td>0.0579</td>\n",
       "      <td>107.980</td>\n",
       "      <td>0.559</td>\n",
       "    </tr>\n",
       "  </tbody>\n",
       "</table>\n",
       "</div>"
      ],
      "text/plain": [
       "                                    id  acousticness  danceability  \\\n",
       "Bye Bye         2FSYfKAApea3U42phhBOIc       0.00168         0.634   \n",
       "La Pachanga     1x6bkwDyWIOZNFY5blRSs1       0.00244         0.681   \n",
       "Auto Rojo       5PSCWHpXi8I45NXURHyhBA       0.15800         0.764   \n",
       "Mojada          5N5sbaoN8UvXw8ngNR9iUk       0.32800         0.666   \n",
       "Fondo Profundo  2g229Q3Relqxkj5CDnTjeE       0.06730         0.819   \n",
       "\n",
       "                duration_ms  energy  instrumentalness  key  liveness  \\\n",
       "Bye Bye              349507   0.840          0.023700    6    0.2070   \n",
       "La Pachanga          281933   0.918          0.000535    9    0.1190   \n",
       "Auto Rojo            306000   0.820          0.000000    1    0.0939   \n",
       "Mojada               367960   0.859          0.000000    7    0.3220   \n",
       "Fondo Profundo       224973   0.954          0.000050    0    0.0784   \n",
       "\n",
       "                loudness  mode  speechiness    tempo  valence  \n",
       "Bye Bye           -5.933     1       0.0351   97.998    0.393  \n",
       "La Pachanga       -4.830     0       0.0508  105.031    0.551  \n",
       "Auto Rojo         -6.073     1       0.0441  104.527    0.688  \n",
       "Mojada            -5.517     1       0.0427  120.701    0.198  \n",
       "Fondo Profundo    -6.057     1       0.0579  107.980    0.559  "
      ]
     },
     "execution_count": 30,
     "metadata": {},
     "output_type": "execute_result"
    }
   ],
   "source": [
    "df_features = df_features[[\"id\", \"acousticness\", \"danceability\", \"duration_ms\", \"energy\", \"instrumentalness\",  \"key\", \"liveness\", \"loudness\", \"mode\", \"speechiness\", \"tempo\", \"valence\"]]\n",
    "df_features.head()"
   ]
  },
  {
   "cell_type": "code",
   "execution_count": 14,
   "metadata": {},
   "outputs": [],
   "source": [
    "df_features.to_csv('data/input.csv')"
   ]
  }
 ],
 "metadata": {
  "kernelspec": {
   "display_name": "api",
   "language": "python",
   "name": "python3"
  },
  "language_info": {
   "codemirror_mode": {
    "name": "ipython",
    "version": 3
   },
   "file_extension": ".py",
   "mimetype": "text/x-python",
   "name": "python",
   "nbconvert_exporter": "python",
   "pygments_lexer": "ipython3",
   "version": "3.10.9"
  },
  "orig_nbformat": 4
 },
 "nbformat": 4,
 "nbformat_minor": 2
}
