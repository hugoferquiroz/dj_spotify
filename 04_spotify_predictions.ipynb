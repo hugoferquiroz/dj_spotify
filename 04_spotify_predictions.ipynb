{
 "cells": [
  {
   "cell_type": "markdown",
   "metadata": {},
   "source": [
    "# Predictions for Spotify"
   ]
  },
  {
   "attachments": {},
   "cell_type": "markdown",
   "metadata": {},
   "source": [
    "## Extraemos la data"
   ]
  },
  {
   "cell_type": "code",
   "execution_count": 82,
   "metadata": {},
   "outputs": [],
   "source": [
    "import pandas as pd"
   ]
  },
  {
   "cell_type": "code",
   "execution_count": 83,
   "metadata": {},
   "outputs": [],
   "source": [
    "# Read in the data\n",
    "userinput_df = pd.read_csv('data/input.csv', index_col=0)\n",
    "candidatos_df = pd.read_csv('data/user_candidatos.csv', index_col=0)"
   ]
  },
  {
   "cell_type": "code",
   "execution_count": 84,
   "metadata": {},
   "outputs": [
    {
     "name": "stdout",
     "output_type": "stream",
     "text": [
      "(6, 13)\n"
     ]
    },
    {
     "data": {
      "text/html": [
       "<div>\n",
       "<style scoped>\n",
       "    .dataframe tbody tr th:only-of-type {\n",
       "        vertical-align: middle;\n",
       "    }\n",
       "\n",
       "    .dataframe tbody tr th {\n",
       "        vertical-align: top;\n",
       "    }\n",
       "\n",
       "    .dataframe thead th {\n",
       "        text-align: right;\n",
       "    }\n",
       "</style>\n",
       "<table border=\"1\" class=\"dataframe\">\n",
       "  <thead>\n",
       "    <tr style=\"text-align: right;\">\n",
       "      <th></th>\n",
       "      <th>id</th>\n",
       "      <th>acousticness</th>\n",
       "      <th>danceability</th>\n",
       "      <th>duration_ms</th>\n",
       "      <th>energy</th>\n",
       "      <th>instrumentalness</th>\n",
       "      <th>key</th>\n",
       "      <th>liveness</th>\n",
       "      <th>loudness</th>\n",
       "      <th>mode</th>\n",
       "      <th>speechiness</th>\n",
       "      <th>tempo</th>\n",
       "      <th>valence</th>\n",
       "    </tr>\n",
       "  </thead>\n",
       "  <tbody>\n",
       "    <tr>\n",
       "      <th>Bye Bye</th>\n",
       "      <td>2FSYfKAApea3U42phhBOIc</td>\n",
       "      <td>0.00168</td>\n",
       "      <td>0.634</td>\n",
       "      <td>349507</td>\n",
       "      <td>0.840</td>\n",
       "      <td>0.023700</td>\n",
       "      <td>6</td>\n",
       "      <td>0.2070</td>\n",
       "      <td>-5.933</td>\n",
       "      <td>1</td>\n",
       "      <td>0.0351</td>\n",
       "      <td>97.998</td>\n",
       "      <td>0.393</td>\n",
       "    </tr>\n",
       "    <tr>\n",
       "      <th>La Pachanga</th>\n",
       "      <td>1x6bkwDyWIOZNFY5blRSs1</td>\n",
       "      <td>0.00244</td>\n",
       "      <td>0.681</td>\n",
       "      <td>281933</td>\n",
       "      <td>0.918</td>\n",
       "      <td>0.000535</td>\n",
       "      <td>9</td>\n",
       "      <td>0.1190</td>\n",
       "      <td>-4.830</td>\n",
       "      <td>0</td>\n",
       "      <td>0.0508</td>\n",
       "      <td>105.031</td>\n",
       "      <td>0.551</td>\n",
       "    </tr>\n",
       "    <tr>\n",
       "      <th>Auto Rojo</th>\n",
       "      <td>5PSCWHpXi8I45NXURHyhBA</td>\n",
       "      <td>0.15800</td>\n",
       "      <td>0.764</td>\n",
       "      <td>306000</td>\n",
       "      <td>0.820</td>\n",
       "      <td>0.000000</td>\n",
       "      <td>1</td>\n",
       "      <td>0.0939</td>\n",
       "      <td>-6.073</td>\n",
       "      <td>1</td>\n",
       "      <td>0.0441</td>\n",
       "      <td>104.527</td>\n",
       "      <td>0.688</td>\n",
       "    </tr>\n",
       "    <tr>\n",
       "      <th>Mojada</th>\n",
       "      <td>5N5sbaoN8UvXw8ngNR9iUk</td>\n",
       "      <td>0.32800</td>\n",
       "      <td>0.666</td>\n",
       "      <td>367960</td>\n",
       "      <td>0.859</td>\n",
       "      <td>0.000000</td>\n",
       "      <td>7</td>\n",
       "      <td>0.3220</td>\n",
       "      <td>-5.517</td>\n",
       "      <td>1</td>\n",
       "      <td>0.0427</td>\n",
       "      <td>120.701</td>\n",
       "      <td>0.198</td>\n",
       "    </tr>\n",
       "    <tr>\n",
       "      <th>Fondo Profundo</th>\n",
       "      <td>2g229Q3Relqxkj5CDnTjeE</td>\n",
       "      <td>0.06730</td>\n",
       "      <td>0.819</td>\n",
       "      <td>224973</td>\n",
       "      <td>0.954</td>\n",
       "      <td>0.000050</td>\n",
       "      <td>0</td>\n",
       "      <td>0.0784</td>\n",
       "      <td>-6.057</td>\n",
       "      <td>1</td>\n",
       "      <td>0.0579</td>\n",
       "      <td>107.980</td>\n",
       "      <td>0.559</td>\n",
       "    </tr>\n",
       "  </tbody>\n",
       "</table>\n",
       "</div>"
      ],
      "text/plain": [
       "                                    id  acousticness  danceability  \\\n",
       "Bye Bye         2FSYfKAApea3U42phhBOIc       0.00168         0.634   \n",
       "La Pachanga     1x6bkwDyWIOZNFY5blRSs1       0.00244         0.681   \n",
       "Auto Rojo       5PSCWHpXi8I45NXURHyhBA       0.15800         0.764   \n",
       "Mojada          5N5sbaoN8UvXw8ngNR9iUk       0.32800         0.666   \n",
       "Fondo Profundo  2g229Q3Relqxkj5CDnTjeE       0.06730         0.819   \n",
       "\n",
       "                duration_ms  energy  instrumentalness  key  liveness  \\\n",
       "Bye Bye              349507   0.840          0.023700    6    0.2070   \n",
       "La Pachanga          281933   0.918          0.000535    9    0.1190   \n",
       "Auto Rojo            306000   0.820          0.000000    1    0.0939   \n",
       "Mojada               367960   0.859          0.000000    7    0.3220   \n",
       "Fondo Profundo       224973   0.954          0.000050    0    0.0784   \n",
       "\n",
       "                loudness  mode  speechiness    tempo  valence  \n",
       "Bye Bye           -5.933     1       0.0351   97.998    0.393  \n",
       "La Pachanga       -4.830     0       0.0508  105.031    0.551  \n",
       "Auto Rojo         -6.073     1       0.0441  104.527    0.688  \n",
       "Mojada            -5.517     1       0.0427  120.701    0.198  \n",
       "Fondo Profundo    -6.057     1       0.0579  107.980    0.559  "
      ]
     },
     "execution_count": 84,
     "metadata": {},
     "output_type": "execute_result"
    }
   ],
   "source": [
    "print(userinput_df.shape)\n",
    "userinput_df.head()"
   ]
  },
  {
   "cell_type": "code",
   "execution_count": 85,
   "metadata": {},
   "outputs": [
    {
     "name": "stdout",
     "output_type": "stream",
     "text": [
      "(153, 13)\n"
     ]
    },
    {
     "data": {
      "text/html": [
       "<div>\n",
       "<style scoped>\n",
       "    .dataframe tbody tr th:only-of-type {\n",
       "        vertical-align: middle;\n",
       "    }\n",
       "\n",
       "    .dataframe tbody tr th {\n",
       "        vertical-align: top;\n",
       "    }\n",
       "\n",
       "    .dataframe thead th {\n",
       "        text-align: right;\n",
       "    }\n",
       "</style>\n",
       "<table border=\"1\" class=\"dataframe\">\n",
       "  <thead>\n",
       "    <tr style=\"text-align: right;\">\n",
       "      <th></th>\n",
       "      <th>id</th>\n",
       "      <th>acousticness</th>\n",
       "      <th>danceability</th>\n",
       "      <th>duration_ms</th>\n",
       "      <th>energy</th>\n",
       "      <th>instrumentalness</th>\n",
       "      <th>key</th>\n",
       "      <th>liveness</th>\n",
       "      <th>loudness</th>\n",
       "      <th>mode</th>\n",
       "      <th>speechiness</th>\n",
       "      <th>tempo</th>\n",
       "      <th>valence</th>\n",
       "    </tr>\n",
       "  </thead>\n",
       "  <tbody>\n",
       "    <tr>\n",
       "      <th>Estoy a la Puerta y Llamo</th>\n",
       "      <td>4bjsp9L4sWREYUkZU8nc6e</td>\n",
       "      <td>0.935</td>\n",
       "      <td>0.493</td>\n",
       "      <td>198240</td>\n",
       "      <td>0.1120</td>\n",
       "      <td>0.000558</td>\n",
       "      <td>10</td>\n",
       "      <td>0.1630</td>\n",
       "      <td>-14.419</td>\n",
       "      <td>0</td>\n",
       "      <td>0.0345</td>\n",
       "      <td>76.480</td>\n",
       "      <td>0.243</td>\n",
       "    </tr>\n",
       "    <tr>\n",
       "      <th>Nada Te Turbe</th>\n",
       "      <td>7GPBx7jwkMSnlUS6Qqudlp</td>\n",
       "      <td>0.859</td>\n",
       "      <td>0.523</td>\n",
       "      <td>216054</td>\n",
       "      <td>0.2420</td>\n",
       "      <td>0.000072</td>\n",
       "      <td>0</td>\n",
       "      <td>0.1050</td>\n",
       "      <td>-9.303</td>\n",
       "      <td>1</td>\n",
       "      <td>0.0269</td>\n",
       "      <td>103.928</td>\n",
       "      <td>0.319</td>\n",
       "    </tr>\n",
       "    <tr>\n",
       "      <th>Entraré</th>\n",
       "      <td>1koXbetRP1PgmDRqU4DFPb</td>\n",
       "      <td>0.944</td>\n",
       "      <td>0.426</td>\n",
       "      <td>262373</td>\n",
       "      <td>0.0559</td>\n",
       "      <td>0.000000</td>\n",
       "      <td>7</td>\n",
       "      <td>0.0633</td>\n",
       "      <td>-18.357</td>\n",
       "      <td>1</td>\n",
       "      <td>0.0300</td>\n",
       "      <td>71.843</td>\n",
       "      <td>0.116</td>\n",
       "    </tr>\n",
       "    <tr>\n",
       "      <th>Someone You Loved</th>\n",
       "      <td>7qEHsqek33rTcFNT9PFqLf</td>\n",
       "      <td>0.751</td>\n",
       "      <td>0.501</td>\n",
       "      <td>182161</td>\n",
       "      <td>0.4050</td>\n",
       "      <td>0.000000</td>\n",
       "      <td>1</td>\n",
       "      <td>0.1050</td>\n",
       "      <td>-5.679</td>\n",
       "      <td>1</td>\n",
       "      <td>0.0319</td>\n",
       "      <td>109.891</td>\n",
       "      <td>0.446</td>\n",
       "    </tr>\n",
       "    <tr>\n",
       "      <th>Before You Go</th>\n",
       "      <td>2gMXnyrvIjhVBUZwvLZDMP</td>\n",
       "      <td>0.604</td>\n",
       "      <td>0.459</td>\n",
       "      <td>215107</td>\n",
       "      <td>0.5750</td>\n",
       "      <td>0.000000</td>\n",
       "      <td>3</td>\n",
       "      <td>0.0885</td>\n",
       "      <td>-4.858</td>\n",
       "      <td>1</td>\n",
       "      <td>0.0573</td>\n",
       "      <td>111.881</td>\n",
       "      <td>0.183</td>\n",
       "    </tr>\n",
       "  </tbody>\n",
       "</table>\n",
       "</div>"
      ],
      "text/plain": [
       "                                               id  acousticness  danceability  \\\n",
       "Estoy a la Puerta y Llamo  4bjsp9L4sWREYUkZU8nc6e         0.935         0.493   \n",
       "Nada Te Turbe              7GPBx7jwkMSnlUS6Qqudlp         0.859         0.523   \n",
       "Entraré                    1koXbetRP1PgmDRqU4DFPb         0.944         0.426   \n",
       "Someone You Loved          7qEHsqek33rTcFNT9PFqLf         0.751         0.501   \n",
       "Before You Go              2gMXnyrvIjhVBUZwvLZDMP         0.604         0.459   \n",
       "\n",
       "                           duration_ms  energy  instrumentalness  key  \\\n",
       "Estoy a la Puerta y Llamo       198240  0.1120          0.000558   10   \n",
       "Nada Te Turbe                   216054  0.2420          0.000072    0   \n",
       "Entraré                         262373  0.0559          0.000000    7   \n",
       "Someone You Loved               182161  0.4050          0.000000    1   \n",
       "Before You Go                   215107  0.5750          0.000000    3   \n",
       "\n",
       "                           liveness  loudness  mode  speechiness    tempo  \\\n",
       "Estoy a la Puerta y Llamo    0.1630   -14.419     0       0.0345   76.480   \n",
       "Nada Te Turbe                0.1050    -9.303     1       0.0269  103.928   \n",
       "Entraré                      0.0633   -18.357     1       0.0300   71.843   \n",
       "Someone You Loved            0.1050    -5.679     1       0.0319  109.891   \n",
       "Before You Go                0.0885    -4.858     1       0.0573  111.881   \n",
       "\n",
       "                           valence  \n",
       "Estoy a la Puerta y Llamo    0.243  \n",
       "Nada Te Turbe                0.319  \n",
       "Entraré                      0.116  \n",
       "Someone You Loved            0.446  \n",
       "Before You Go                0.183  "
      ]
     },
     "execution_count": 85,
     "metadata": {},
     "output_type": "execute_result"
    }
   ],
   "source": [
    "print(candidatos_df.shape)\n",
    "candidatos_df.head()"
   ]
  },
  {
   "cell_type": "markdown",
   "metadata": {},
   "source": [
    "## Sistema de recomendación"
   ]
  },
  {
   "attachments": {},
   "cell_type": "markdown",
   "metadata": {},
   "source": [
    "![el sistema de recomendación](./sistema_recomendacion.png)\n",
    "\n",
    "Veamos en detalle el sistema de recomendación:\n",
    "\n",
    "![el sistema de recomendación en detalle](./sistema_recomendacion_detalle.png)\n"
   ]
  },
  {
   "attachments": {},
   "cell_type": "markdown",
   "metadata": {},
   "source": [
    "#### El filtrado basado en contenido\n",
    "\n",
    "Permite cuantificar qué tan similar es un ítem de `candidatos_df` a un ítem de `top20_df`.\n",
    "\n",
    "Una forma de hacer esta comparación es usando la similitud del coseno:\n",
    "\n",
    "![vectores de características](./vectores_caracteristicas.png)\n",
    "\n",
    "![la similitud del coseno](./similitud_coseno.png)\n",
    "\n",
    "Calcularemos este similitud entre cada user_input y cada una de las pistas candidatas (matriz de 20 x n_pistas_candidatas)"
   ]
  },
  {
   "cell_type": "code",
   "execution_count": 86,
   "metadata": {},
   "outputs": [],
   "source": [
    "# Extraer sólo los features en formato numpy array\n",
    "userinput_mtx = userinput_df.iloc[:,1:].values  # \"1:\" solo toma variables numéricas\n",
    "candidatos_mtx = candidatos_df.iloc[:,1:].values"
   ]
  },
  {
   "cell_type": "code",
   "execution_count": 87,
   "metadata": {},
   "outputs": [
    {
     "data": {
      "text/plain": [
       "array([[9.35000e-01, 4.93000e-01, 1.98240e+05, ..., 3.45000e-02,\n",
       "        7.64800e+01, 2.43000e-01],\n",
       "       [8.59000e-01, 5.23000e-01, 2.16054e+05, ..., 2.69000e-02,\n",
       "        1.03928e+02, 3.19000e-01],\n",
       "       [9.44000e-01, 4.26000e-01, 2.62373e+05, ..., 3.00000e-02,\n",
       "        7.18430e+01, 1.16000e-01],\n",
       "       ...,\n",
       "       [6.41000e-01, 2.76000e-01, 2.37467e+05, ..., 3.77000e-02,\n",
       "        7.79860e+01, 2.85000e-01],\n",
       "       [5.68000e-02, 5.50000e-01, 1.94573e+05, ..., 4.50000e-02,\n",
       "        1.07069e+02, 5.47000e-01],\n",
       "       [4.38000e-02, 6.84000e-01, 2.71707e+05, ..., 4.60000e-02,\n",
       "        9.99180e+01, 6.78000e-01]])"
      ]
     },
     "execution_count": 87,
     "metadata": {},
     "output_type": "execute_result"
    }
   ],
   "source": [
    "candidatos_mtx"
   ]
  },
  {
   "cell_type": "code",
   "execution_count": 88,
   "metadata": {},
   "outputs": [],
   "source": [
    "from sklearn.preprocessing import StandardScaler\n",
    "\n",
    "# Estandarizar cada columna de features: mu = 0, sigma = 1\n",
    "# pues cada característica tiene una escala diferente\n",
    "scaler = StandardScaler()\n",
    "user_scaled = scaler.fit_transform(userinput_mtx)\n",
    "cand_scaled = scaler.fit_transform(candidatos_mtx)"
   ]
  },
  {
   "cell_type": "code",
   "execution_count": 89,
   "metadata": {},
   "outputs": [
    {
     "name": "stdout",
     "output_type": "stream",
     "text": [
      "[ 3.70074342e-17  1.48029737e-15 -7.40148683e-17 -1.99840144e-15\n",
      " -1.38777878e-17 -7.40148683e-17 -2.40548322e-16 -1.62832710e-15\n",
      "  7.40148683e-17  1.66533454e-16  3.70074342e-16  3.70074342e-17]\n",
      "[1. 1. 1. 1. 1. 1. 1. 1. 1. 1. 1. 1.]\n"
     ]
    }
   ],
   "source": [
    "print(user_scaled.mean(axis=0))\n",
    "print(user_scaled.std(axis=0))"
   ]
  },
  {
   "cell_type": "code",
   "execution_count": 90,
   "metadata": {},
   "outputs": [
    {
     "name": "stdout",
     "output_type": "stream",
     "text": [
      "[1. 1. 1. 1. 1. 1.]\n",
      "[1. 1. 1. 1. 1. 1. 1. 1. 1. 1. 1. 1. 1. 1. 1. 1. 1. 1. 1. 1. 1. 1. 1. 1.\n",
      " 1. 1. 1. 1. 1. 1. 1. 1. 1. 1. 1. 1. 1. 1. 1. 1. 1. 1. 1. 1. 1. 1. 1. 1.\n",
      " 1. 1. 1. 1. 1. 1. 1. 1. 1. 1. 1. 1. 1. 1. 1. 1. 1. 1. 1. 1. 1. 1. 1. 1.\n",
      " 1. 1. 1. 1. 1. 1. 1. 1. 1. 1. 1. 1. 1. 1. 1. 1. 1. 1. 1. 1. 1. 1. 1. 1.\n",
      " 1. 1. 1. 1. 1. 1. 1. 1. 1. 1. 1. 1. 1. 1. 1. 1. 1. 1. 1. 1. 1. 1. 1. 1.\n",
      " 1. 1. 1. 1. 1. 1. 1. 1. 1. 1. 1. 1. 1. 1. 1. 1. 1. 1. 1. 1. 1. 1. 1. 1.\n",
      " 1. 1. 1. 1. 1. 1. 1. 1. 1.]\n"
     ]
    }
   ],
   "source": [
    "import numpy as np\n",
    "\n",
    "# Normalizar cada vector de características (es decir por filas)\n",
    "\n",
    "# Magnitudes de cada vector (o pista)\n",
    "user_norm = np.sqrt((user_scaled*user_scaled).sum(axis=1))\n",
    "cand_norm = np.sqrt((cand_scaled*cand_scaled).sum(axis=1))\n",
    "\n",
    "# Normalización\n",
    "nuser = user_scaled.shape[0]\n",
    "ncand = cand_scaled.shape[0]\n",
    "user = user_scaled/user_norm.reshape(nuser,1)\n",
    "cand = cand_scaled/cand_norm.reshape(ncand,1)\n",
    "\n",
    "print(np.sqrt((user*user).sum(axis=1)))\n",
    "print(np.sqrt((cand*cand).sum(axis=1)))\n"
   ]
  },
  {
   "cell_type": "code",
   "execution_count": 91,
   "metadata": {},
   "outputs": [
    {
     "data": {
      "text/plain": [
       "(6, 153)"
      ]
     },
     "execution_count": 91,
     "metadata": {},
     "output_type": "execute_result"
    }
   ],
   "source": [
    "from sklearn.metrics.pairwise import linear_kernel\n",
    "\n",
    "# Calcular similitudes del coseno entre cada top-20 y cada\n",
    "# una de las pistas candidatas\n",
    "cos_sim = linear_kernel(user,cand)\n",
    "cos_sim.shape"
   ]
  },
  {
   "cell_type": "code",
   "execution_count": 92,
   "metadata": {},
   "outputs": [
    {
     "name": "stdout",
     "output_type": "stream",
     "text": [
      "0.3207066778793185\n",
      "-0.4542341494079558\n"
     ]
    }
   ],
   "source": [
    "# Ejemplo: ¿qué tanto se parece una pista  user-input a una candidata?\n",
    "print(cos_sim[5,120])   \n",
    "print(cos_sim[3,24])"
   ]
  },
  {
   "cell_type": "code",
   "execution_count": 93,
   "metadata": {},
   "outputs": [],
   "source": [
    "# Obtener candidatos para una pista dada\n",
    "\n",
    "# Dada una pista del user-input (pos = 0, 1, ..., 6) extraer \"ncands\" candidatos, usando\n",
    "# \"cos_sim\" y siempre y cuando superen un umbral de similitud\n",
    "\n",
    "def obtener_candidatos(pos, cos_sim, ncands, umbral = 0.8):\n",
    "    # Obtener todas las pistas candidatas por encima de umbral\n",
    "    idx = np.where(cos_sim[pos,:]>=umbral)[0] # ejm. idx: [27, 82, 135]\n",
    "    \n",
    "    # Y organizarlas de forma descendente (por similitudes de mayor a menor)\n",
    "    idx = idx[np.argsort(cos_sim[pos,idx])[::-1]] # [::-1] porque por defecto argsort organiza de manera ascendente\n",
    "\n",
    "    # Si hay más de \"ncands\", retornar únicamente un total de \"ncands\"\n",
    "    if len(idx) >= ncands:\n",
    "        cands = idx[0:ncands]\n",
    "    else:\n",
    "        cands = idx\n",
    "  \n",
    "    return cands"
   ]
  },
  {
   "cell_type": "code",
   "execution_count": 94,
   "metadata": {},
   "outputs": [
    {
     "name": "stdout",
     "output_type": "stream",
     "text": [
      "0 ==> pistas candidatas: [122], similitudes: [0.65254885]\n",
      "1 ==> pistas candidatas: [ 95  85  97  45 119], similitudes: [0.77909773 0.70347501 0.6554713  0.64904769 0.64530965]\n",
      "2 ==> pistas candidatas: [ 82  30  49 145  12], similitudes: [0.79828689 0.77597178 0.72431469 0.63320549 0.62669585]\n",
      "3 ==> pistas candidatas: [104  88], similitudes: [0.73139861 0.61415946]\n",
      "4 ==> pistas candidatas: [ 73  54 123  92], similitudes: [0.72915057 0.61911345 0.61633274 0.6038117 ]\n",
      "5 ==> pistas candidatas: [67], similitudes: [0.79351395]\n"
     ]
    }
   ],
   "source": [
    "# Ejemplo de uso\n",
    "# Todo: Cuantas canciones necesitará el usuario\n",
    "# para que el sistema le recomiende una canción\n",
    "# que le guste?\n",
    "\n",
    "for i in range(6):\n",
    "    cands = obtener_candidatos(i, cos_sim, 5, 0.6)\n",
    "    print(f'{i} ==> pistas candidatas: {cands}, similitudes: {cos_sim[i,cands]}')"
   ]
  },
  {
   "cell_type": "code",
   "execution_count": 95,
   "metadata": {},
   "outputs": [
    {
     "name": "stdout",
     "output_type": "stream",
     "text": [
      "Bye Bye\n",
      "   Ojos Claros, Labios Rosas\n",
      "La Pachanga\n",
      "   Marta tiene un marcapasos\n",
      "   La Cintura\n",
      "   La Pachanga\n",
      "   Andas En Mi Cabeza\n",
      "   The Thrill\n",
      "Auto Rojo\n",
      "   Propuesta Indecente\n",
      "   Mor\n",
      "   Lo Que Construimos\n",
      "   Luz De Dia\n",
      "   It Ain't Me (with Selena Gomez)\n",
      "Mojada\n",
      "   La parte de adelante\n",
      "   Lobo Hombre en París - Versión Sinfónico [En Vivo]\n",
      "Fondo Profundo\n",
      "   Sweet & Sour (feat. Lauv & Tyga)\n",
      "   Roast Yourself Challenge\n",
      "   La Botella\n",
      "   Despertar\n",
      "Oye Mi Amor\n",
      "   Oye Mi Amor\n"
     ]
    }
   ],
   "source": [
    "# Para crear la playlist se requieren únicamente los ids\n",
    "ids_user = []\n",
    "ids_playlist = []\n",
    "\n",
    "for i in range(userinput_df.shape[0]):\n",
    "    print(userinput_df.index[i])   # Nombre de la pista en el top-20\n",
    "    ids_user.append(userinput_df['id'][i])\n",
    "    \n",
    "    # Obtener listado de candidatos para esta pista\n",
    "    cands = obtener_candidatos(i, cos_sim, 5, umbral=0.6)\n",
    "    \n",
    "    # Si hay pistas relacionadas obtener los ids correspondientes\n",
    "    # e imprimir en pantalla\n",
    "    if len(cands)==0:\n",
    "        print('     ***No se encontraron pistas relacionadas***')\n",
    "    else:\n",
    "        # Obtener los ids correspondientes e imprimir en pantalla\n",
    "        for j in cands:\n",
    "            id_cand = candidatos_df['id'][j]\n",
    "            ids_playlist.append(id_cand)\n",
    "            \n",
    "            # E imprimir en pantalla el candidato\n",
    "            print(f'   {candidatos_df.index[j]}')"
   ]
  },
  {
   "cell_type": "code",
   "execution_count": 96,
   "metadata": {},
   "outputs": [],
   "source": [
    "# Eliminar candidatos que ya están en el top-20\n",
    "ids_playlist_dep = [x for x in ids_playlist if x not in ids_user]\n",
    "\n",
    "# Y eliminar posibles repeticiones\n",
    "ids_playlist_dep = list(set(ids_playlist_dep))\n",
    "ids_user = list(set(ids_user))"
   ]
  },
  {
   "cell_type": "code",
   "execution_count": 97,
   "metadata": {},
   "outputs": [],
   "source": [
    "ids_user.extend(ids_playlist_dep)"
   ]
  },
  {
   "cell_type": "code",
   "execution_count": 98,
   "metadata": {},
   "outputs": [
    {
     "data": {
      "text/plain": [
       "['2g229Q3Relqxkj5CDnTjeE',\n",
       " '2FSYfKAApea3U42phhBOIc',\n",
       " '5N5sbaoN8UvXw8ngNR9iUk',\n",
       " '5EJ2THuhAapEIeQOtXUQ0x',\n",
       " '5PSCWHpXi8I45NXURHyhBA',\n",
       " '1x6bkwDyWIOZNFY5blRSs1',\n",
       " '56oGoEjA9eTZYgsttEFKY3',\n",
       " '6VUJQqyeQhAZHkQbSDqLtI',\n",
       " '0fHTVPRRKmWaRuIwrsNTMp',\n",
       " '5wWxUdgn2OugIOvLJOdreH',\n",
       " '23WI5V2eD4EyGKxSl7Pyeq',\n",
       " '3eR23VReFzcdmS7TYCrhCe',\n",
       " '1mlnmVqp3mnCIFwwk7uH8C',\n",
       " '1XvfncS1t4BNkh37klHeqj',\n",
       " '5PycBIeabfvX3n9ILG7Vrv',\n",
       " '0HGoUFjnLX2YuFXxcopZdR',\n",
       " '29GrGzUHri2cpt1v2TTimI',\n",
       " '3dtGHZyEGmKSmQoAPcbvyb',\n",
       " '3ZWhRS2EJVL5B0IEzkcvZa',\n",
       " '5VZHMNKKYRul576P9Hqj6d',\n",
       " '5NoE12bRYiehlnDpOcI7A6',\n",
       " '6TqXieeBcZZHyaO14hQpKx']"
      ]
     },
     "execution_count": 98,
     "metadata": {},
     "output_type": "execute_result"
    }
   ],
   "source": [
    "ids_user"
   ]
  },
  {
   "cell_type": "markdown",
   "metadata": {},
   "source": [
    "## Crear la playlist en spotipy"
   ]
  },
  {
   "cell_type": "code",
   "execution_count": 99,
   "metadata": {},
   "outputs": [],
   "source": [
    "import spotipy\n",
    "from spotipy.oauth2 import SpotifyOAuth\n",
    "\n",
    "scope = \"playlist-modify-private\"\n",
    "\n",
    "sp = spotipy.Spotify(auth_manager=SpotifyOAuth(scope=scope))"
   ]
  },
  {
   "cell_type": "code",
   "execution_count": 100,
   "metadata": {},
   "outputs": [],
   "source": [
    "# Crear la playlist en spotify\n",
    "me = sp.me()\n",
    "username = me['id']\n",
    "\n",
    "pl = sp.user_playlist_create(user=username, \n",
    "                             name='DJ Spotify',\n",
    "                             description='Playlist creada por el DJ Spotify',\n",
    "                             public=False)"
   ]
  },
  {
   "cell_type": "code",
   "execution_count": 101,
   "metadata": {},
   "outputs": [
    {
     "data": {
      "text/plain": [
       "{'snapshot_id': 'Miw2YjIxNzI2ZWZlZTBjNGI1NTZjYzFhOTNkMzVkMjg1NDU3ZjMyNjNm'}"
      ]
     },
     "execution_count": 101,
     "metadata": {},
     "output_type": "execute_result"
    }
   ],
   "source": [
    "sp.playlist_add_items(pl['id'], ids_user)"
   ]
  }
 ],
 "metadata": {
  "kernelspec": {
   "display_name": "api",
   "language": "python",
   "name": "python3"
  },
  "language_info": {
   "codemirror_mode": {
    "name": "ipython",
    "version": 3
   },
   "file_extension": ".py",
   "mimetype": "text/x-python",
   "name": "python",
   "nbconvert_exporter": "python",
   "pygments_lexer": "ipython3",
   "version": "3.10.9"
  },
  "orig_nbformat": 4
 },
 "nbformat": 4,
 "nbformat_minor": 2
}
